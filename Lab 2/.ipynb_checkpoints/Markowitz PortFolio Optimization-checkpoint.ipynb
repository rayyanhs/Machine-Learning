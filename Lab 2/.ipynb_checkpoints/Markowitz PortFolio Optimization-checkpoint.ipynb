{
 "cells": [
  {
   "cell_type": "markdown",
   "metadata": {},
   "source": [
    "# import Libraries"
   ]
  },
  {
   "cell_type": "code",
   "execution_count": 1,
   "metadata": {},
   "outputs": [
    {
     "ename": "ModuleNotFoundError",
     "evalue": "No module named 'pandas'",
     "output_type": "error",
     "traceback": [
      "\u001b[1;31m---------------------------------------------------------------------------\u001b[0m",
      "\u001b[1;31mModuleNotFoundError\u001b[0m                       Traceback (most recent call last)",
      "\u001b[1;32m<ipython-input-1-99844fae780a>\u001b[0m in \u001b[0;36m<module>\u001b[1;34m\u001b[0m\n\u001b[0;32m      1\u001b[0m \u001b[1;32mimport\u001b[0m \u001b[0mmatplotlib\u001b[0m\u001b[1;33m.\u001b[0m\u001b[0mpyplot\u001b[0m \u001b[1;32mas\u001b[0m \u001b[0mplt\u001b[0m\u001b[1;33m\u001b[0m\u001b[1;33m\u001b[0m\u001b[0m\n\u001b[0;32m      2\u001b[0m \u001b[1;32mimport\u001b[0m \u001b[0mnumpy\u001b[0m \u001b[1;32mas\u001b[0m \u001b[0mnp\u001b[0m\u001b[1;33m\u001b[0m\u001b[1;33m\u001b[0m\u001b[0m\n\u001b[1;32m----> 3\u001b[1;33m \u001b[1;32mimport\u001b[0m \u001b[0mpandas\u001b[0m \u001b[1;32mas\u001b[0m \u001b[0mpd\u001b[0m\u001b[1;33m\u001b[0m\u001b[1;33m\u001b[0m\u001b[0m\n\u001b[0m\u001b[0;32m      4\u001b[0m \u001b[1;32mimport\u001b[0m \u001b[0mpandas_datareader\u001b[0m \u001b[1;32mas\u001b[0m \u001b[0mweb\u001b[0m\u001b[1;33m\u001b[0m\u001b[1;33m\u001b[0m\u001b[0m\n\u001b[0;32m      5\u001b[0m \u001b[1;32mfrom\u001b[0m \u001b[0mmatplotlib\u001b[0m\u001b[1;33m.\u001b[0m\u001b[0mticker\u001b[0m \u001b[1;32mimport\u001b[0m \u001b[0mFuncFormatter\u001b[0m\u001b[1;33m\u001b[0m\u001b[1;33m\u001b[0m\u001b[0m\n",
      "\u001b[1;31mModuleNotFoundError\u001b[0m: No module named 'pandas'"
     ]
    }
   ],
   "source": [
    "import matplotlib.pyplot as plt\n",
    "import numpy as np\n",
    "import pandas as pd\n",
    "import pandas_datareader as web\n",
    "from matplotlib.ticker import FuncFormatter\n",
    "plt.style.use('fivethirtyeight')"
   ]
  },
  {
   "cell_type": "markdown",
   "metadata": {},
   "source": [
    "# Scrap Data from Yahoo Finance"
   ]
  },
  {
   "cell_type": "code",
   "execution_count": 6,
   "metadata": {},
   "outputs": [],
   "source": [
    "assets= ['GOOG','AMZN','AAPL','BSX','AES','BRK-B','SEE','QQQ','SPY']\n",
    "weights=np.array([0.1,0.1,0.1,0.1,0.1,0.1,0.1,0.1,0.1])\n",
    "start_date='2018-11-01'\n",
    "end_date='2020-11-1'\n",
    "df=pd.DataFrame()\n",
    "for stock in assets:\n",
    "    df[stock]= web.DataReader(stock,data_source='yahoo', start=start_date, end = end_date)['Adj Close']\n"
   ]
  },
  {
   "cell_type": "code",
   "execution_count": 7,
   "metadata": {},
   "outputs": [
    {
     "data": {
      "text/html": [
       "<div>\n",
       "<style scoped>\n",
       "    .dataframe tbody tr th:only-of-type {\n",
       "        vertical-align: middle;\n",
       "    }\n",
       "\n",
       "    .dataframe tbody tr th {\n",
       "        vertical-align: top;\n",
       "    }\n",
       "\n",
       "    .dataframe thead th {\n",
       "        text-align: right;\n",
       "    }\n",
       "</style>\n",
       "<table border=\"1\" class=\"dataframe\">\n",
       "  <thead>\n",
       "    <tr style=\"text-align: right;\">\n",
       "      <th></th>\n",
       "      <th>GOOG</th>\n",
       "      <th>AMZN</th>\n",
       "      <th>AAPL</th>\n",
       "      <th>BSX</th>\n",
       "      <th>AES</th>\n",
       "      <th>BRK-B</th>\n",
       "      <th>SEE</th>\n",
       "      <th>QQQ</th>\n",
       "      <th>SPY</th>\n",
       "    </tr>\n",
       "    <tr>\n",
       "      <th>Date</th>\n",
       "      <th></th>\n",
       "      <th></th>\n",
       "      <th></th>\n",
       "      <th></th>\n",
       "      <th></th>\n",
       "      <th></th>\n",
       "      <th></th>\n",
       "      <th></th>\n",
       "      <th></th>\n",
       "    </tr>\n",
       "  </thead>\n",
       "  <tbody>\n",
       "    <tr>\n",
       "      <th>2018-10-31</th>\n",
       "      <td>1076.770020</td>\n",
       "      <td>1598.010010</td>\n",
       "      <td>52.825207</td>\n",
       "      <td>36.139999</td>\n",
       "      <td>13.645761</td>\n",
       "      <td>205.279999</td>\n",
       "      <td>31.279528</td>\n",
       "      <td>167.303375</td>\n",
       "      <td>260.322754</td>\n",
       "    </tr>\n",
       "    <tr>\n",
       "      <th>2018-11-01</th>\n",
       "      <td>1070.000000</td>\n",
       "      <td>1665.530029</td>\n",
       "      <td>53.636192</td>\n",
       "      <td>36.990002</td>\n",
       "      <td>13.795506</td>\n",
       "      <td>205.860001</td>\n",
       "      <td>32.381466</td>\n",
       "      <td>169.510178</td>\n",
       "      <td>263.093079</td>\n",
       "    </tr>\n",
       "    <tr>\n",
       "      <th>2018-11-02</th>\n",
       "      <td>1057.790039</td>\n",
       "      <td>1665.530029</td>\n",
       "      <td>50.078476</td>\n",
       "      <td>36.810001</td>\n",
       "      <td>13.664477</td>\n",
       "      <td>206.570007</td>\n",
       "      <td>32.159145</td>\n",
       "      <td>166.869919</td>\n",
       "      <td>261.534790</td>\n",
       "    </tr>\n",
       "    <tr>\n",
       "      <th>2018-11-05</th>\n",
       "      <td>1040.089966</td>\n",
       "      <td>1627.800049</td>\n",
       "      <td>48.656826</td>\n",
       "      <td>36.360001</td>\n",
       "      <td>14.104361</td>\n",
       "      <td>216.240005</td>\n",
       "      <td>32.710106</td>\n",
       "      <td>166.456131</td>\n",
       "      <td>262.977631</td>\n",
       "    </tr>\n",
       "    <tr>\n",
       "      <th>2018-11-06</th>\n",
       "      <td>1055.810059</td>\n",
       "      <td>1642.810059</td>\n",
       "      <td>49.183006</td>\n",
       "      <td>36.849998</td>\n",
       "      <td>14.984130</td>\n",
       "      <td>218.509995</td>\n",
       "      <td>32.932434</td>\n",
       "      <td>167.717163</td>\n",
       "      <td>264.641724</td>\n",
       "    </tr>\n",
       "    <tr>\n",
       "      <th>...</th>\n",
       "      <td>...</td>\n",
       "      <td>...</td>\n",
       "      <td>...</td>\n",
       "      <td>...</td>\n",
       "      <td>...</td>\n",
       "      <td>...</td>\n",
       "      <td>...</td>\n",
       "      <td>...</td>\n",
       "      <td>...</td>\n",
       "    </tr>\n",
       "    <tr>\n",
       "      <th>2020-10-26</th>\n",
       "      <td>1590.449951</td>\n",
       "      <td>3207.040039</td>\n",
       "      <td>114.851852</td>\n",
       "      <td>36.860001</td>\n",
       "      <td>20.429079</td>\n",
       "      <td>208.490005</td>\n",
       "      <td>40.720001</td>\n",
       "      <td>280.470001</td>\n",
       "      <td>339.390015</td>\n",
       "    </tr>\n",
       "    <tr>\n",
       "      <th>2020-10-27</th>\n",
       "      <td>1604.260010</td>\n",
       "      <td>3286.330078</td>\n",
       "      <td>116.399178</td>\n",
       "      <td>36.049999</td>\n",
       "      <td>20.190840</td>\n",
       "      <td>206.880005</td>\n",
       "      <td>40.599998</td>\n",
       "      <td>282.660004</td>\n",
       "      <td>338.220001</td>\n",
       "    </tr>\n",
       "    <tr>\n",
       "      <th>2020-10-28</th>\n",
       "      <td>1516.619995</td>\n",
       "      <td>3162.780029</td>\n",
       "      <td>111.008476</td>\n",
       "      <td>34.070000</td>\n",
       "      <td>19.357000</td>\n",
       "      <td>200.699997</td>\n",
       "      <td>40.900002</td>\n",
       "      <td>271.640015</td>\n",
       "      <td>326.660004</td>\n",
       "    </tr>\n",
       "    <tr>\n",
       "      <th>2020-10-29</th>\n",
       "      <td>1567.239990</td>\n",
       "      <td>3211.010010</td>\n",
       "      <td>115.121384</td>\n",
       "      <td>33.500000</td>\n",
       "      <td>19.530001</td>\n",
       "      <td>201.509995</td>\n",
       "      <td>40.169998</td>\n",
       "      <td>276.390015</td>\n",
       "      <td>329.980011</td>\n",
       "    </tr>\n",
       "    <tr>\n",
       "      <th>2020-10-30</th>\n",
       "      <td>1621.010010</td>\n",
       "      <td>3036.149902</td>\n",
       "      <td>108.672516</td>\n",
       "      <td>34.270000</td>\n",
       "      <td>19.500000</td>\n",
       "      <td>201.899994</td>\n",
       "      <td>39.590000</td>\n",
       "      <td>269.380005</td>\n",
       "      <td>326.540009</td>\n",
       "    </tr>\n",
       "  </tbody>\n",
       "</table>\n",
       "<p>504 rows × 9 columns</p>\n",
       "</div>"
      ],
      "text/plain": [
       "                   GOOG         AMZN        AAPL        BSX        AES  \\\n",
       "Date                                                                     \n",
       "2018-10-31  1076.770020  1598.010010   52.825207  36.139999  13.645761   \n",
       "2018-11-01  1070.000000  1665.530029   53.636192  36.990002  13.795506   \n",
       "2018-11-02  1057.790039  1665.530029   50.078476  36.810001  13.664477   \n",
       "2018-11-05  1040.089966  1627.800049   48.656826  36.360001  14.104361   \n",
       "2018-11-06  1055.810059  1642.810059   49.183006  36.849998  14.984130   \n",
       "...                 ...          ...         ...        ...        ...   \n",
       "2020-10-26  1590.449951  3207.040039  114.851852  36.860001  20.429079   \n",
       "2020-10-27  1604.260010  3286.330078  116.399178  36.049999  20.190840   \n",
       "2020-10-28  1516.619995  3162.780029  111.008476  34.070000  19.357000   \n",
       "2020-10-29  1567.239990  3211.010010  115.121384  33.500000  19.530001   \n",
       "2020-10-30  1621.010010  3036.149902  108.672516  34.270000  19.500000   \n",
       "\n",
       "                 BRK-B        SEE         QQQ         SPY  \n",
       "Date                                                       \n",
       "2018-10-31  205.279999  31.279528  167.303375  260.322754  \n",
       "2018-11-01  205.860001  32.381466  169.510178  263.093079  \n",
       "2018-11-02  206.570007  32.159145  166.869919  261.534790  \n",
       "2018-11-05  216.240005  32.710106  166.456131  262.977631  \n",
       "2018-11-06  218.509995  32.932434  167.717163  264.641724  \n",
       "...                ...        ...         ...         ...  \n",
       "2020-10-26  208.490005  40.720001  280.470001  339.390015  \n",
       "2020-10-27  206.880005  40.599998  282.660004  338.220001  \n",
       "2020-10-28  200.699997  40.900002  271.640015  326.660004  \n",
       "2020-10-29  201.509995  40.169998  276.390015  329.980011  \n",
       "2020-10-30  201.899994  39.590000  269.380005  326.540009  \n",
       "\n",
       "[504 rows x 9 columns]"
      ]
     },
     "execution_count": 7,
     "metadata": {},
     "output_type": "execute_result"
    }
   ],
   "source": [
    "df"
   ]
  },
  {
   "cell_type": "markdown",
   "metadata": {},
   "source": [
    "# Ploting the data"
   ]
  },
  {
   "cell_type": "code",
   "execution_count": 12,
   "metadata": {},
   "outputs": [],
   "source": [
    "my_stocks=df"
   ]
  },
  {
   "cell_type": "code",
   "execution_count": 14,
   "metadata": {},
   "outputs": [
    {
     "data": {
      "text/plain": [
       "<function matplotlib.pyplot.show(*args, **kw)>"
      ]
     },
     "execution_count": 14,
     "metadata": {},
     "output_type": "execute_result"
    },
    {
     "data": {
      "image/png": "[encoded data removed]",
      "text/plain": [
       "<Figure size 432x288 with 1 Axes>"
      ]
     },
     "metadata": {},
     "output_type": "display_data"
    }
   ],
   "source": [
    "for c in my_stock.columns.values:\n",
    "    plt.plot(my_stocks[c],label=c)\n",
    "plt.title(\"Portfolio Adj\")\n",
    "plt.xlabel('Date',fontsize=18)\n",
    "plt.ylabel(\"Adj Price Usd($)\",fontsize=12)\n",
    "plt.legend(my_stocks.columns.values,loc='upper left')\n",
    "plt.show"
   ]
  },
  {
   "cell_type": "code",
   "execution_count": 10,
   "metadata": {},
   "outputs": [
    {
     "data": {
      "text/html": [
       "<div>\n",
       "<style scoped>\n",
       "    .dataframe tbody tr th:only-of-type {\n",
       "        vertical-align: middle;\n",
       "    }\n",
       "\n",
       "    .dataframe tbody tr th {\n",
       "        vertical-align: top;\n",
       "    }\n",
       "\n",
       "    .dataframe thead th {\n",
       "        text-align: right;\n",
       "    }\n",
       "</style>\n",
       "<table border=\"1\" class=\"dataframe\">\n",
       "  <thead>\n",
       "    <tr style=\"text-align: right;\">\n",
       "      <th></th>\n",
       "      <th>GOOG</th>\n",
       "      <th>AMZN</th>\n",
       "      <th>AAPL</th>\n",
       "      <th>BSX</th>\n",
       "      <th>AES</th>\n",
       "      <th>BRK-B</th>\n",
       "      <th>SEE</th>\n",
       "      <th>QQQ</th>\n",
       "      <th>SPY</th>\n",
       "    </tr>\n",
       "    <tr>\n",
       "      <th>Date</th>\n",
       "      <th></th>\n",
       "      <th></th>\n",
       "      <th></th>\n",
       "      <th></th>\n",
       "      <th></th>\n",
       "      <th></th>\n",
       "      <th></th>\n",
       "      <th></th>\n",
       "      <th></th>\n",
       "    </tr>\n",
       "  </thead>\n",
       "  <tbody>\n",
       "    <tr>\n",
       "      <th>2018-10-31</th>\n",
       "      <td>NaN</td>\n",
       "      <td>NaN</td>\n",
       "      <td>NaN</td>\n",
       "      <td>NaN</td>\n",
       "      <td>NaN</td>\n",
       "      <td>NaN</td>\n",
       "      <td>NaN</td>\n",
       "      <td>NaN</td>\n",
       "      <td>NaN</td>\n",
       "    </tr>\n",
       "    <tr>\n",
       "      <th>2018-11-01</th>\n",
       "      <td>-0.006287</td>\n",
       "      <td>0.042253</td>\n",
       "      <td>0.015352</td>\n",
       "      <td>0.023520</td>\n",
       "      <td>0.010974</td>\n",
       "      <td>0.002825</td>\n",
       "      <td>0.035229</td>\n",
       "      <td>0.013190</td>\n",
       "      <td>0.010642</td>\n",
       "    </tr>\n",
       "    <tr>\n",
       "      <th>2018-11-02</th>\n",
       "      <td>-0.011411</td>\n",
       "      <td>0.000000</td>\n",
       "      <td>-0.066331</td>\n",
       "      <td>-0.004866</td>\n",
       "      <td>-0.009498</td>\n",
       "      <td>0.003449</td>\n",
       "      <td>-0.006866</td>\n",
       "      <td>-0.015576</td>\n",
       "      <td>-0.005923</td>\n",
       "    </tr>\n",
       "    <tr>\n",
       "      <th>2018-11-05</th>\n",
       "      <td>-0.016733</td>\n",
       "      <td>-0.022653</td>\n",
       "      <td>-0.028388</td>\n",
       "      <td>-0.012225</td>\n",
       "      <td>0.032192</td>\n",
       "      <td>0.046812</td>\n",
       "      <td>0.017132</td>\n",
       "      <td>-0.002480</td>\n",
       "      <td>0.005517</td>\n",
       "    </tr>\n",
       "    <tr>\n",
       "      <th>2018-11-06</th>\n",
       "      <td>0.015114</td>\n",
       "      <td>0.009221</td>\n",
       "      <td>0.010814</td>\n",
       "      <td>0.013476</td>\n",
       "      <td>0.062376</td>\n",
       "      <td>0.010498</td>\n",
       "      <td>0.006797</td>\n",
       "      <td>0.007576</td>\n",
       "      <td>0.006328</td>\n",
       "    </tr>\n",
       "    <tr>\n",
       "      <th>...</th>\n",
       "      <td>...</td>\n",
       "      <td>...</td>\n",
       "      <td>...</td>\n",
       "      <td>...</td>\n",
       "      <td>...</td>\n",
       "      <td>...</td>\n",
       "      <td>...</td>\n",
       "      <td>...</td>\n",
       "      <td>...</td>\n",
       "    </tr>\n",
       "    <tr>\n",
       "      <th>2020-10-26</th>\n",
       "      <td>-0.030804</td>\n",
       "      <td>0.000824</td>\n",
       "      <td>0.000087</td>\n",
       "      <td>-0.008340</td>\n",
       "      <td>-0.003390</td>\n",
       "      <td>-0.019839</td>\n",
       "      <td>-0.013805</td>\n",
       "      <td>-0.014996</td>\n",
       "      <td>-0.018480</td>\n",
       "    </tr>\n",
       "    <tr>\n",
       "      <th>2020-10-27</th>\n",
       "      <td>0.008683</td>\n",
       "      <td>0.024724</td>\n",
       "      <td>0.013472</td>\n",
       "      <td>-0.021975</td>\n",
       "      <td>-0.011662</td>\n",
       "      <td>-0.007722</td>\n",
       "      <td>-0.002947</td>\n",
       "      <td>0.007808</td>\n",
       "      <td>-0.003447</td>\n",
       "    </tr>\n",
       "    <tr>\n",
       "      <th>2020-10-28</th>\n",
       "      <td>-0.054630</td>\n",
       "      <td>-0.037595</td>\n",
       "      <td>-0.046312</td>\n",
       "      <td>-0.054924</td>\n",
       "      <td>-0.041298</td>\n",
       "      <td>-0.029872</td>\n",
       "      <td>0.007389</td>\n",
       "      <td>-0.038987</td>\n",
       "      <td>-0.034179</td>\n",
       "    </tr>\n",
       "    <tr>\n",
       "      <th>2020-10-29</th>\n",
       "      <td>0.033377</td>\n",
       "      <td>0.015249</td>\n",
       "      <td>0.037050</td>\n",
       "      <td>-0.016730</td>\n",
       "      <td>0.008937</td>\n",
       "      <td>0.004036</td>\n",
       "      <td>-0.017848</td>\n",
       "      <td>0.017486</td>\n",
       "      <td>0.010163</td>\n",
       "    </tr>\n",
       "    <tr>\n",
       "      <th>2020-10-30</th>\n",
       "      <td>0.034309</td>\n",
       "      <td>-0.054456</td>\n",
       "      <td>-0.056018</td>\n",
       "      <td>0.022985</td>\n",
       "      <td>-0.001536</td>\n",
       "      <td>0.001935</td>\n",
       "      <td>-0.014439</td>\n",
       "      <td>-0.025363</td>\n",
       "      <td>-0.010425</td>\n",
       "    </tr>\n",
       "  </tbody>\n",
       "</table>\n",
       "<p>504 rows × 9 columns</p>\n",
       "</div>"
      ],
      "text/plain": [
       "                GOOG      AMZN      AAPL       BSX       AES     BRK-B  \\\n",
       "Date                                                                     \n",
       "2018-10-31       NaN       NaN       NaN       NaN       NaN       NaN   \n",
       "2018-11-01 -0.006287  0.042253  0.015352  0.023520  0.010974  0.002825   \n",
       "2018-11-02 -0.011411  0.000000 -0.066331 -0.004866 -0.009498  0.003449   \n",
       "2018-11-05 -0.016733 -0.022653 -0.028388 -0.012225  0.032192  0.046812   \n",
       "2018-11-06  0.015114  0.009221  0.010814  0.013476  0.062376  0.010498   \n",
       "...              ...       ...       ...       ...       ...       ...   \n",
       "2020-10-26 -0.030804  0.000824  0.000087 -0.008340 -0.003390 -0.019839   \n",
       "2020-10-27  0.008683  0.024724  0.013472 -0.021975 -0.011662 -0.007722   \n",
       "2020-10-28 -0.054630 -0.037595 -0.046312 -0.054924 -0.041298 -0.029872   \n",
       "2020-10-29  0.033377  0.015249  0.037050 -0.016730  0.008937  0.004036   \n",
       "2020-10-30  0.034309 -0.054456 -0.056018  0.022985 -0.001536  0.001935   \n",
       "\n",
       "                 SEE       QQQ       SPY  \n",
       "Date                                      \n",
       "2018-10-31       NaN       NaN       NaN  \n",
       "2018-11-01  0.035229  0.013190  0.010642  \n",
       "2018-11-02 -0.006866 -0.015576 -0.005923  \n",
       "2018-11-05  0.017132 -0.002480  0.005517  \n",
       "2018-11-06  0.006797  0.007576  0.006328  \n",
       "...              ...       ...       ...  \n",
       "2020-10-26 -0.013805 -0.014996 -0.018480  \n",
       "2020-10-27 -0.002947  0.007808 -0.003447  \n",
       "2020-10-28  0.007389 -0.038987 -0.034179  \n",
       "2020-10-29 -0.017848  0.017486  0.010163  \n",
       "2020-10-30 -0.014439 -0.025363 -0.010425  \n",
       "\n",
       "[504 rows x 9 columns]"
      ]
     },
     "execution_count": 10,
     "metadata": {},
     "output_type": "execute_result"
    }
   ],
   "source": [
    "returns=df.pct_change()\n",
    "returns"
   ]
  },
  {
   "cell_type": "markdown",
   "metadata": {},
   "source": [
    "# Covariance Matrix"
   ]
  },
  {
   "cell_type": "code",
   "execution_count": 16,
   "metadata": {
    "scrolled": true
   },
   "outputs": [
    {
     "data": {
      "text/html": [
       "<div>\n",
       "<style scoped>\n",
       "    .dataframe tbody tr th:only-of-type {\n",
       "        vertical-align: middle;\n",
       "    }\n",
       "\n",
       "    .dataframe tbody tr th {\n",
       "        vertical-align: top;\n",
       "    }\n",
       "\n",
       "    .dataframe thead th {\n",
       "        text-align: right;\n",
       "    }\n",
       "</style>\n",
       "<table border=\"1\" class=\"dataframe\">\n",
       "  <thead>\n",
       "    <tr style=\"text-align: right;\">\n",
       "      <th></th>\n",
       "      <th>GOOG</th>\n",
       "      <th>AMZN</th>\n",
       "      <th>AAPL</th>\n",
       "      <th>BSX</th>\n",
       "      <th>AES</th>\n",
       "      <th>BRK-B</th>\n",
       "      <th>SEE</th>\n",
       "      <th>QQQ</th>\n",
       "      <th>SPY</th>\n",
       "    </tr>\n",
       "  </thead>\n",
       "  <tbody>\n",
       "    <tr>\n",
       "      <th>GOOG</th>\n",
       "      <td>0.108021</td>\n",
       "      <td>0.077101</td>\n",
       "      <td>0.091952</td>\n",
       "      <td>0.072922</td>\n",
       "      <td>0.065185</td>\n",
       "      <td>0.057964</td>\n",
       "      <td>0.046474</td>\n",
       "      <td>0.080655</td>\n",
       "      <td>0.068610</td>\n",
       "    </tr>\n",
       "    <tr>\n",
       "      <th>AMZN</th>\n",
       "      <td>0.077101</td>\n",
       "      <td>0.117627</td>\n",
       "      <td>0.092714</td>\n",
       "      <td>0.055570</td>\n",
       "      <td>0.036446</td>\n",
       "      <td>0.043912</td>\n",
       "      <td>0.024802</td>\n",
       "      <td>0.079177</td>\n",
       "      <td>0.058274</td>\n",
       "    </tr>\n",
       "    <tr>\n",
       "      <th>AAPL</th>\n",
       "      <td>0.091952</td>\n",
       "      <td>0.092714</td>\n",
       "      <td>0.154040</td>\n",
       "      <td>0.082010</td>\n",
       "      <td>0.072765</td>\n",
       "      <td>0.071550</td>\n",
       "      <td>0.046547</td>\n",
       "      <td>0.099952</td>\n",
       "      <td>0.083161</td>\n",
       "    </tr>\n",
       "    <tr>\n",
       "      <th>BSX</th>\n",
       "      <td>0.072922</td>\n",
       "      <td>0.055570</td>\n",
       "      <td>0.082010</td>\n",
       "      <td>0.130471</td>\n",
       "      <td>0.091267</td>\n",
       "      <td>0.068228</td>\n",
       "      <td>0.072456</td>\n",
       "      <td>0.072842</td>\n",
       "      <td>0.072827</td>\n",
       "    </tr>\n",
       "    <tr>\n",
       "      <th>AES</th>\n",
       "      <td>0.065185</td>\n",
       "      <td>0.036446</td>\n",
       "      <td>0.072765</td>\n",
       "      <td>0.091267</td>\n",
       "      <td>0.189353</td>\n",
       "      <td>0.075844</td>\n",
       "      <td>0.117742</td>\n",
       "      <td>0.065901</td>\n",
       "      <td>0.074053</td>\n",
       "    </tr>\n",
       "    <tr>\n",
       "      <th>BRK-B</th>\n",
       "      <td>0.057964</td>\n",
       "      <td>0.043912</td>\n",
       "      <td>0.071550</td>\n",
       "      <td>0.068228</td>\n",
       "      <td>0.075844</td>\n",
       "      <td>0.074720</td>\n",
       "      <td>0.058980</td>\n",
       "      <td>0.059512</td>\n",
       "      <td>0.062206</td>\n",
       "    </tr>\n",
       "    <tr>\n",
       "      <th>SEE</th>\n",
       "      <td>0.046474</td>\n",
       "      <td>0.024802</td>\n",
       "      <td>0.046547</td>\n",
       "      <td>0.072456</td>\n",
       "      <td>0.117742</td>\n",
       "      <td>0.058980</td>\n",
       "      <td>0.182566</td>\n",
       "      <td>0.045460</td>\n",
       "      <td>0.054498</td>\n",
       "    </tr>\n",
       "    <tr>\n",
       "      <th>QQQ</th>\n",
       "      <td>0.080655</td>\n",
       "      <td>0.079177</td>\n",
       "      <td>0.099952</td>\n",
       "      <td>0.072842</td>\n",
       "      <td>0.065901</td>\n",
       "      <td>0.059512</td>\n",
       "      <td>0.045460</td>\n",
       "      <td>0.082604</td>\n",
       "      <td>0.070265</td>\n",
       "    </tr>\n",
       "    <tr>\n",
       "      <th>SPY</th>\n",
       "      <td>0.068610</td>\n",
       "      <td>0.058274</td>\n",
       "      <td>0.083161</td>\n",
       "      <td>0.072827</td>\n",
       "      <td>0.074053</td>\n",
       "      <td>0.062206</td>\n",
       "      <td>0.054498</td>\n",
       "      <td>0.070265</td>\n",
       "      <td>0.067212</td>\n",
       "    </tr>\n",
       "  </tbody>\n",
       "</table>\n",
       "</div>"
      ],
      "text/plain": [
       "           GOOG      AMZN      AAPL       BSX       AES     BRK-B       SEE  \\\n",
       "GOOG   0.108021  0.077101  0.091952  0.072922  0.065185  0.057964  0.046474   \n",
       "AMZN   0.077101  0.117627  0.092714  0.055570  0.036446  0.043912  0.024802   \n",
       "AAPL   0.091952  0.092714  0.154040  0.082010  0.072765  0.071550  0.046547   \n",
       "BSX    0.072922  0.055570  0.082010  0.130471  0.091267  0.068228  0.072456   \n",
       "AES    0.065185  0.036446  0.072765  0.091267  0.189353  0.075844  0.117742   \n",
       "BRK-B  0.057964  0.043912  0.071550  0.068228  0.075844  0.074720  0.058980   \n",
       "SEE    0.046474  0.024802  0.046547  0.072456  0.117742  0.058980  0.182566   \n",
       "QQQ    0.080655  0.079177  0.099952  0.072842  0.065901  0.059512  0.045460   \n",
       "SPY    0.068610  0.058274  0.083161  0.072827  0.074053  0.062206  0.054498   \n",
       "\n",
       "            QQQ       SPY  \n",
       "GOOG   0.080655  0.068610  \n",
       "AMZN   0.079177  0.058274  \n",
       "AAPL   0.099952  0.083161  \n",
       "BSX    0.072842  0.072827  \n",
       "AES    0.065901  0.074053  \n",
       "BRK-B  0.059512  0.062206  \n",
       "SEE    0.045460  0.054498  \n",
       "QQQ    0.082604  0.070265  \n",
       "SPY    0.070265  0.067212  "
      ]
     },
     "execution_count": 16,
     "metadata": {},
     "output_type": "execute_result"
    }
   ],
   "source": [
    "cov_matrix_anual=returns.cov() * 252\n",
    "cov_matrix_anual"
   ]
  },
  {
   "cell_type": "markdown",
   "metadata": {},
   "source": [
    "# calculating the variance"
   ]
  },
  {
   "cell_type": "code",
   "execution_count": 19,
   "metadata": {},
   "outputs": [
    {
     "data": {
      "text/plain": [
       "0.06046256661228999"
      ]
     },
     "execution_count": 19,
     "metadata": {},
     "output_type": "execute_result"
    }
   ],
   "source": [
    "port_variance=np.dot(weights.T,np.dot(cov_matrix_anual,weights))\n",
    "port_variance"
   ]
  },
  {
   "cell_type": "markdown",
   "metadata": {},
   "source": [
    "# PortFolio Volatility"
   ]
  },
  {
   "cell_type": "code",
   "execution_count": 22,
   "metadata": {},
   "outputs": [
    {
     "data": {
      "text/plain": [
       "0.24589137156941882"
      ]
     },
     "execution_count": 22,
     "metadata": {},
     "output_type": "execute_result"
    }
   ],
   "source": [
    "volatility=np.sqrt(port_variance)\n",
    "volatility"
   ]
  },
  {
   "cell_type": "markdown",
   "metadata": {},
   "source": [
    "# Annual_PortFolio Returns"
   ]
  },
  {
   "cell_type": "code",
   "execution_count": 25,
   "metadata": {},
   "outputs": [
    {
     "data": {
      "text/plain": [
       "0.2057454524651055"
      ]
     },
     "execution_count": 25,
     "metadata": {},
     "output_type": "execute_result"
    }
   ],
   "source": [
    "portFolioAnualReturns=np.sum(returns.mean()*weights)*252\n",
    "portFolioAnualReturns"
   ]
  },
  {
   "cell_type": "code",
   "execution_count": 34,
   "metadata": {},
   "outputs": [],
   "source": [
    "percent_var=str(round(port_variance,2)*100)+'%'\n",
    "percent_volatility=str(round(volatility,2)*100)+'%'\n",
    "percent_Anual_return=str(round(portFolioAnualReturns,2)*100)+'%'"
   ]
  },
  {
   "cell_type": "markdown",
   "metadata": {},
   "source": [
    "# Expected Annual Return Volatility(risk) and variance"
   ]
  },
  {
   "cell_type": "code",
   "execution_count": 36,
   "metadata": {},
   "outputs": [
    {
     "name": "stdout",
     "output_type": "stream",
     "text": [
      "Expected Anual Returns:  21.0%\n",
      "percent_voltility/Risk:  25.0%\n",
      "Annual Variance:  6.0%\n"
     ]
    }
   ],
   "source": [
    "print(\"Expected Anual Returns: \",percent_Anual_return)\n",
    "print(\"percent_voltility/Risk: \",percent_volatility)\n",
    "print(\"Annual Variance: \",percent_var)"
   ]
  },
  {
   "cell_type": "code",
   "execution_count": null,
   "metadata": {},
   "outputs": [],
   "source": [
    "pip install PyPortFolioOpt"
   ]
  },
  {
   "cell_type": "code",
   "execution_count": null,
   "metadata": {},
   "outputs": [],
   "source": [
    "#Insert necessary Libraies "
   ]
  },
  {
   "cell_type": "code",
   "execution_count": null,
   "metadata": {},
   "outputs": [],
   "source": [
    "from pyptopt.efficient_frontier\n",
    "from pypfopt.efficient_frontier import EfficientFrontier\n",
    "from pypfopt import risk_models\n",
    "from pypfopt import expected_returns\n",
    "from pypfopt.cla import CLA\n",
    "from pypfopt.plotting import Plotting\n",
    "from matplotlib.ticker import FuncFormatter"
   ]
  },
  {
   "cell_type": "markdown",
   "metadata": {},
   "source": [
    "# Annualized Return"
   ]
  },
  {
   "cell_type": "code",
   "execution_count": null,
   "metadata": {},
   "outputs": [],
   "source": [
    "#Annualized Return\n",
    "mu = expected_returns.mean_historical_return(my_stocks)\n",
    "#Sample Variance of Portfolio\n",
    "Sigma = risk_models.sample_cov(my_stocks)"
   ]
  },
  {
   "cell_type": "markdown",
   "metadata": {},
   "source": [
    "# Max Sharpe Ratio - Tangent to the EF"
   ]
  },
  {
   "cell_type": "code",
   "execution_count": null,
   "metadata": {},
   "outputs": [],
   "source": [
    "#Max Sharpe Ratio - Tangent to the EF\n",
    "ef = EfficientFrontier(mu, Sigma, weight_bounds=(-1,1)) #weight bounds in negative allows shorting of stocks\n",
    "sharpe_pfolio=ef.max_sharpe() #May use add objective to ensure minimum zero weighting to individual stocks\n",
    "sharpe_pwt=ef.clean_weights()\n",
    "print(sharpe_pwt)"
   ]
  },
  {
   "cell_type": "markdown",
   "metadata": {},
   "source": [
    "# Plotting the Efficient Frontier and Optimizing Portfolio Allocation"
   ]
  },
  {
   "cell_type": "code",
   "execution_count": null,
   "metadata": {},
   "outputs": [],
   "source": [
    "latest_prices = discrete_allocation.get_latest_prices(df_stocks)\n",
    "# Allocate Portfolio Value in $ as required to show number of shares/stocks to buy, also bounds for shorting will affect allocation\n",
    "#Min Volatility Portfolio Allocation $10000\n",
    "allocation_minv, rem_minv = discrete_allocation.DiscreteAllocation(minvol_pwt, latest_prices, total_portfolio_value=10000).lp_portfolio()\n",
    "print(allocation_minv)\n",
    "print(\"Leftover Fund value in$ after building minimum volatility portfolio is ${:.2f}\".format(rem_minv))"
   ]
  }
 ],
 "metadata": {
  "kernelspec": {
   "display_name": "Python 3",
   "language": "python",
   "name": "python3"
  },
  "language_info": {
   "codemirror_mode": {
    "name": "ipython",
    "version": 3
   },
   "file_extension": ".py",
   "mimetype": "text/x-python",
   "name": "python",
   "nbconvert_exporter": "python",
   "pygments_lexer": "ipython3",
   "version": "3.7.6"
  }
 },
 "nbformat": 4,
 "nbformat_minor": 4
}
