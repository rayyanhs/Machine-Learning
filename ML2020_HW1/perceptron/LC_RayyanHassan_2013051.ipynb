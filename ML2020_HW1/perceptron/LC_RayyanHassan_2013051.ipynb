{
 "cells": [
  {
   "cell_type": "markdown",
   "metadata": {
    "id": "RrTl9vIgMCyg"
   },
   "source": [
    "# Classification on Wine Dataset\n",
    "\n",
    "## IMPORTANT: make sure to rerun all the code from the beginning to obtain the results for the final version of your notebook, since this is the way we will do it before evaluting your notebook!!!\n",
    "\n",
    "### Dataset description\n",
    "\n",
    "We will be working with a dataset on wines from the UCI machine learning repository\n",
    "(http://archive.ics.uci.edu/ml/datasets/Wine). It contains data for 178 instances. \n",
    "The dataset is the results of a chemical analysis of wines grown in the same region\n",
    "in Italy but derived from three different cultivars. The analysis determined the\n",
    "quantities of 13 constituents found in each of the three types of wines. \n",
    "\n",
    "### The features in the dataset are:\n",
    "\n",
    "- Alcohol\n",
    "- Malic acid\n",
    "- Ash\n",
    "- Alcalinity of ash\n",
    "- Magnesium\n",
    "- Total phenols\n",
    "- Flavanoids\n",
    "- Nonflavanoid phenols\n",
    "- Proanthocyanins\n",
    "- Color intensity\n",
    "- Hue\n",
    "- OD280/OD315 of diluted wines\n",
    "-Proline\n",
    "\n"
   ]
  },
  {
   "cell_type": "markdown",
   "metadata": {
    "id": "lVwgK-W0MCyq"
   },
   "source": [
    "We first import all the packages that are needed"
   ]
  },
  {
   "cell_type": "code",
   "execution_count": 1,
   "metadata": {
    "executionInfo": {
     "elapsed": 1169,
     "status": "ok",
     "timestamp": 1605440885736,
     "user": {
      "displayName": "Khubaib Ahmad",
      "photoUrl": "https://lh3.googleusercontent.com/a-/AOh14Gj_cWPRmH6oXJ6HE6Yv3hXD7uBD12DWz59X9SGH=s64",
      "userId": "02537182755832941499"
     },
     "user_tz": -300
    },
    "id": "CdsPpzJUMCyt",
    "jupyter": {
     "outputs_hidden": true
    }
   },
   "outputs": [],
   "source": [
    "%matplotlib inline\n",
    "import matplotlib.pyplot as plt\n",
    "\n",
    "\n",
    "import numpy as np\n",
    "import scipy as sp\n",
    "from scipy import stats\n",
    "from sklearn import datasets\n",
    "from sklearn import linear_model"
   ]
  },
  {
   "cell_type": "markdown",
   "metadata": {
    "id": "SY4D7ioCMCy4"
   },
   "source": [
    "# Perceptron\n",
    "We will implement the perceptron and use it to learn a halfspace with 0-1 loss."
   ]
  },
  {
   "cell_type": "markdown",
   "metadata": {
    "id": "r16B6mKKMCy7"
   },
   "source": [
    "**TO DO** Set the random seed to your ID (matricola)."
   ]
  },
  {
   "cell_type": "code",
   "execution_count": 2,
   "metadata": {
    "executionInfo": {
     "elapsed": 937,
     "status": "ok",
     "timestamp": 1605440886264,
     "user": {
      "displayName": "Khubaib Ahmad",
      "photoUrl": "https://lh3.googleusercontent.com/a-/AOh14Gj_cWPRmH6oXJ6HE6Yv3hXD7uBD12DWz59X9SGH=s64",
      "userId": "02537182755832941499"
     },
     "user_tz": -300
    },
    "id": "o-yyl46jMCy8"
   },
   "outputs": [],
   "source": [
    "IDnumber = 2013051\n",
    "np.random.seed(IDnumber)"
   ]
  },
  {
   "cell_type": "markdown",
   "metadata": {
    "id": "DrUtyTizMCzH"
   },
   "source": [
    "Load the dataset from scikit learn and then split in training set and test set (50%-50%) after applying a random permutation to the datset."
   ]
  },
  {
   "cell_type": "code",
   "execution_count": 3,
   "metadata": {
    "executionInfo": {
     "elapsed": 1025,
     "status": "ok",
     "timestamp": 1605440886871,
     "user": {
      "displayName": "Khubaib Ahmad",
      "photoUrl": "https://lh3.googleusercontent.com/a-/AOh14Gj_cWPRmH6oXJ6HE6Yv3hXD7uBD12DWz59X9SGH=s64",
      "userId": "02537182755832941499"
     },
     "user_tz": -300
    },
    "id": "W8acfaK0MCzL"
   },
   "outputs": [],
   "source": [
    "# Load the dataset from scikit learn\n",
    "wine = datasets.load_wine()\n",
    "\n",
    "# numbber of sampes in data\n",
    "m = wine.data.shape[0]\n",
    "# Random permutation \n",
    "permutation = np.random.permutation(m)\n",
    "\n",
    "X = wine.data[permutation]\n",
    "Y = wine.target[permutation]"
   ]
  },
  {
   "cell_type": "markdown",
   "metadata": {
    "id": "l1mYm1KcMCzT"
   },
   "source": [
    "We are going to classify class \"1\" vs the other two classes (0 and 2). We are going to relabel the other classes (0 and 2) as \"-1\" so that we can use it directly with the perceptron."
   ]
  },
  {
   "cell_type": "code",
   "execution_count": 4,
   "metadata": {
    "executionInfo": {
     "elapsed": 1103,
     "status": "ok",
     "timestamp": 1605440887458,
     "user": {
      "displayName": "Khubaib Ahmad",
      "photoUrl": "https://lh3.googleusercontent.com/a-/AOh14Gj_cWPRmH6oXJ6HE6Yv3hXD7uBD12DWz59X9SGH=s64",
      "userId": "02537182755832941499"
     },
     "user_tz": -300
    },
    "id": "eSaFEYAzMCzU"
   },
   "outputs": [],
   "source": [
    "#let's relabel classes 0 and 2 as -1\n",
    "\n",
    "for i in range(len(Y)):\n",
    "    if Y[i] != 1:\n",
    "        Y[i] = -1"
   ]
  },
  {
   "cell_type": "markdown",
   "metadata": {
    "id": "j_K9wnOeMCzd"
   },
   "source": [
    "**TO DO** Divide the data into training set and test set (50% of the data each)"
   ]
  },
  {
   "cell_type": "code",
   "execution_count": 5,
   "metadata": {
    "colab": {
     "base_uri": "https://localhost:8080/"
    },
    "executionInfo": {
     "elapsed": 926,
     "status": "ok",
     "timestamp": 1605440888204,
     "user": {
      "displayName": "Khubaib Ahmad",
      "photoUrl": "https://lh3.googleusercontent.com/a-/AOh14Gj_cWPRmH6oXJ6HE6Yv3hXD7uBD12DWz59X9SGH=s64",
      "userId": "02537182755832941499"
     },
     "user_tz": -300
    },
    "id": "SqutoJpCMCze",
    "outputId": "1337db9d-f843-4729-a03c-bbcee6a47b25"
   },
   "outputs": [
    {
     "name": "stdout",
     "output_type": "stream",
     "text": [
      "[ 1 -1 -1 -1 -1  1 -1 -1  1 -1 -1 -1  1 -1  1  1 -1  1 -1 -1  1  1 -1 -1\n",
      "  1 -1  1 -1  1  1 -1  1  1  1 -1 -1 -1 -1 -1  1 -1  1 -1 -1  1  1 -1  1\n",
      "  1  1 -1  1 -1 -1  1  1  1 -1 -1  1  1  1  1  1 -1 -1 -1 -1 -1 -1 -1 -1\n",
      " -1 -1 -1 -1 -1 -1  1  1 -1  1  1 -1 -1  1  1  1 -1]\n"
     ]
    }
   ],
   "source": [
    "\n",
    "#Divide in training and test: make sure that your training set\n",
    "#contains at least 10 elements from class 1 and at least 10 elements\n",
    "#from class -1! If it does not, modify the code so to apply more random\n",
    "#permutations (or the same permutation multiple times) until this happens.\n",
    "\n",
    "#m_training needs to be the number of samples in the training set\n",
    "m_training = m//2\n",
    "\n",
    "#m_test needs to be the number of samples in the test set\n",
    "m_test = m//2\n",
    "\n",
    "#X_training = instances for training set\n",
    "X_training = X[:m_training]\n",
    "#Y_training = labels for the training set\n",
    "Y_training = Y[:m_training]\n",
    "\n",
    "#X_test = instances for test set\n",
    "X_test = X[m_training:]\n",
    "#Y_test = labels for the test set\n",
    "Y_test = Y[m_training:]\n",
    "\n",
    "print(Y_training) #to make sure that Y_training contains both 1 and -1"
   ]
  },
  {
   "cell_type": "code",
   "execution_count": 6,
   "metadata": {
    "colab": {
     "base_uri": "https://localhost:8080/"
    },
    "executionInfo": {
     "elapsed": 1376,
     "status": "ok",
     "timestamp": 1605440888907,
     "user": {
      "displayName": "Khubaib Ahmad",
      "photoUrl": "https://lh3.googleusercontent.com/a-/AOh14Gj_cWPRmH6oXJ6HE6Yv3hXD7uBD12DWz59X9SGH=s64",
      "userId": "02537182755832941499"
     },
     "user_tz": -300
    },
    "id": "bVb8blxOde4W",
    "outputId": "1b3c1cbf-97b2-416e-a5ca-15668bfe1809"
   },
   "outputs": [
    {
     "data": {
      "text/plain": [
       "(array([-1,  1]), array([50, 39], dtype=int64))"
      ]
     },
     "execution_count": 6,
     "metadata": {},
     "output_type": "execute_result"
    }
   ],
   "source": [
    "# number of unique values\n",
    "np.unique(Y_training, return_counts=True)"
   ]
  },
  {
   "cell_type": "markdown",
   "metadata": {
    "id": "bg_5csYGMCzj"
   },
   "source": [
    "**TO DO** Now add a 1 in front of each sample so that we can use a vector to describe all the coefficients of the model. You can use the function $hstack$ in $numpy$"
   ]
  },
  {
   "cell_type": "code",
   "execution_count": 7,
   "metadata": {
    "executionInfo": {
     "elapsed": 1241,
     "status": "ok",
     "timestamp": 1605440889379,
     "user": {
      "displayName": "Khubaib Ahmad",
      "photoUrl": "https://lh3.googleusercontent.com/a-/AOh14Gj_cWPRmH6oXJ6HE6Yv3hXD7uBD12DWz59X9SGH=s64",
      "userId": "02537182755832941499"
     },
     "user_tz": -300
    },
    "id": "oZZJCrsRMCzk"
   },
   "outputs": [],
   "source": [
    "#add a 1 to each sample\n",
    "\n",
    "# Create arrays of ones with dimensions same as training data and test data\n",
    "ones_training = np.ones((X_training.shape[0], 1))\n",
    "ones_test = np.ones((X_test.shape[0], 1))\n",
    "# Add one to each sample\n",
    "X_training = np.hstack((ones_training, X_training))\n",
    "X_test = np.hstack((ones_test, X_test))"
   ]
  },
  {
   "cell_type": "markdown",
   "metadata": {
    "id": "a2-GNl0LMCzp"
   },
   "source": [
    "**TO DO** Now complete the function *perceptron*. Since the perceptron does not terminate if the data is not linearly separable, your implementation should return the desired output (see below) if it reached the termination condition seen in class or if a maximum number of iterations have already been run, where 1 iteration corresponds to 1 update of the perceptron weights. If the perceptron returns because the maximum number of iterations has been reached, you should return an appropriate model. \n",
    "\n",
    "The input parameters to pass are:\n",
    "- $X$: the matrix of input features, one row for each sample\n",
    "- $Y$: the vector of labels for the input features matrix X\n",
    "- $max\\_num\\_iterations$: the maximum number of iterations for running the perceptron\n",
    "\n",
    "The output values are:\n",
    "- $best\\_w$: the vector with the coefficients of the best model\n",
    "- $best\\_error$: the *fraction* of missclassified samples for the best model"
   ]
  },
  {
   "cell_type": "code",
   "execution_count": 23,
   "metadata": {
    "executionInfo": {
     "elapsed": 1185,
     "status": "ok",
     "timestamp": 1605440893076,
     "user": {
      "displayName": "Khubaib Ahmad",
      "photoUrl": "https://lh3.googleusercontent.com/a-/AOh14Gj_cWPRmH6oXJ6HE6Yv3hXD7uBD12DWz59X9SGH=s64",
      "userId": "02537182755832941499"
     },
     "user_tz": -300
    },
    "id": "koyJcSVmMCzs"
   },
   "outputs": [],
   "source": [
    "def perceptron(X, Y, max_num_iterations):\n",
    "\n",
    "    #ADD CODE!\n",
    "    m = X.shape[0]\n",
    "    w = np.zeros(len(X[0]))\n",
    "    eta = 1\n",
    "    errors = []\n",
    "    best_w = w\n",
    "    best_error = np.inf\n",
    "    for t in range(max_num_iterations):\n",
    "        total_errors = 0\n",
    "        for i, x in enumerate(X):\n",
    "            if (np.dot(X[i], w)*Y[i]) <= 0:\n",
    "                total_errors += 1\n",
    "                w = w + eta*X[i]*Y[i]\n",
    "        total_errors = total_errors/m\n",
    "        errors.append(total_errors)\n",
    "        if(best_error > total_errors):\n",
    "          best_error = total_errors\n",
    "          best_w = w\n",
    "        if total_errors == 0:\n",
    "          break\n",
    "    return best_w, best_error, errors"
   ]
  },
  {
   "cell_type": "markdown",
   "metadata": {
    "id": "C-SKGB5WMCzy"
   },
   "source": [
    "Now we use the implementation above of the perceptron to learn a model from the training data using 100 iterations and print the error of the best model we have found."
   ]
  },
  {
   "cell_type": "code",
   "execution_count": 24,
   "metadata": {
    "colab": {
     "base_uri": "https://localhost:8080/"
    },
    "executionInfo": {
     "elapsed": 974,
     "status": "ok",
     "timestamp": 1605440894128,
     "user": {
      "displayName": "Khubaib Ahmad",
      "photoUrl": "https://lh3.googleusercontent.com/a-/AOh14Gj_cWPRmH6oXJ6HE6Yv3hXD7uBD12DWz59X9SGH=s64",
      "userId": "02537182755832941499"
     },
     "user_tz": -300
    },
    "id": "XAa26dV9MCzz",
    "outputId": "345dadaf-d1e7-4c40-b55a-6df29bc162e6"
   },
   "outputs": [
    {
     "name": "stdout",
     "output_type": "stream",
     "text": [
      "Training error with 100 iterations: 0.2696629213483146\n"
     ]
    }
   ],
   "source": [
    "#now run the perceptron for 100 iterations\n",
    "w_found, training_error, errors = perceptron(X_training,Y_training, 100)\n",
    "print(\"Training error with 100 iterations: \"+str(training_error))"
   ]
  },
  {
   "cell_type": "markdown",
   "metadata": {
    "id": "OU-vN_BpMC0P"
   },
   "source": [
    "**TO DO** use the best model $w\\_found$ to predict the labels for the test dataset and print the fraction of missclassified samples in the test set (that is an estimate of the true loss)."
   ]
  },
  {
   "cell_type": "code",
   "execution_count": 25,
   "metadata": {
    "colab": {
     "base_uri": "https://localhost:8080/"
    },
    "executionInfo": {
     "elapsed": 910,
     "status": "ok",
     "timestamp": 1605440895580,
     "user": {
      "displayName": "Khubaib Ahmad",
      "photoUrl": "https://lh3.googleusercontent.com/a-/AOh14Gj_cWPRmH6oXJ6HE6Yv3hXD7uBD12DWz59X9SGH=s64",
      "userId": "02537182755832941499"
     },
     "user_tz": -300
    },
    "id": "BSi0FtV2MC0R",
    "outputId": "da848d42-70de-4e77-c521-996ad74e3fc1"
   },
   "outputs": [
    {
     "name": "stdout",
     "output_type": "stream",
     "text": [
      "Estimated true loss with 100 iterations:0.3146067415730337\n"
     ]
    }
   ],
   "source": [
    "#now use the w_found to make predictions on test dataset\n",
    "#num_errors = number of errors in the test set\n",
    "y_pred = []\n",
    "for i, x in enumerate(X_test):\n",
    "  y_pred.append(np.where(np.dot(x, w_found) >= 0.0, 1, -1))\n",
    "\n",
    "true_loss_estimate = np.sum(Y_test != y_pred)/m_test\n",
    "\n",
    "#NOTE: you can avoid using num_errors if you prefer, as long as true_loss_estimate is correct\n",
    "print(\"Estimated true loss with 100 iterations:\"+str(true_loss_estimate))"
   ]
  },
  {
   "cell_type": "markdown",
   "metadata": {
    "id": "8zUVrGu0MC0c"
   },
   "source": [
    "**TO DO**: what relation do you observe between the training error and the (estimated) true loss? Is this what you expected? Explain what you observe and why it does or does not conform to your expectations.\n",
    "\n",
    "**ANSWER**: The (estimated) true loss is almost always greater than the training loss, the above results also shows that. The above models training error is also high which shows that the model is underfitting."
   ]
  },
  {
   "cell_type": "markdown",
   "metadata": {
    "id": "5lxicvTcMC0f"
   },
   "source": [
    "**TO DO** Copy the code from the last 2 cells above in the cell below and repeat the training with 10000 iterations. "
   ]
  },
  {
   "cell_type": "code",
   "execution_count": 26,
   "metadata": {
    "colab": {
     "base_uri": "https://localhost:8080/"
    },
    "executionInfo": {
     "elapsed": 4081,
     "status": "ok",
     "timestamp": 1605440899920,
     "user": {
      "displayName": "Khubaib Ahmad",
      "photoUrl": "https://lh3.googleusercontent.com/a-/AOh14Gj_cWPRmH6oXJ6HE6Yv3hXD7uBD12DWz59X9SGH=s64",
      "userId": "02537182755832941499"
     },
     "user_tz": -300
    },
    "id": "VX-o1WBKMC0g",
    "outputId": "1530a096-147a-420c-a0a7-8a325d54245d"
   },
   "outputs": [
    {
     "name": "stdout",
     "output_type": "stream",
     "text": [
      "Training error with 100 iterations: 0.2696629213483146\n",
      "Training error with 10000 iterations: 0.0898876404494382\n",
      "Estimated true loss with 10000 iterations:0.0898876404494382\n"
     ]
    }
   ],
   "source": [
    "#now run the perceptron for 10000 iterations here!\n",
    "\n",
    "#ADD CODE!\n",
    "w_found, training_error, errors = perceptron(X_training,Y_training, 100)\n",
    "print(\"Training error with 100 iterations: \"+str(training_error))\n",
    "#training_error = error on the training set\n",
    "w_found, training_error, errors = perceptron(X_training,Y_training, 10000)\n",
    "print(\"Training error with 10000 iterations: \"+str(training_error))\n",
    "\n",
    "#num_errors = number of errors in the test set\n",
    "y_pred = []\n",
    "for i, x in enumerate(X_test):\n",
    "  y_pred.append(np.where(np.dot(x, w_found) >= 0.0, 1, -1))\n",
    "\n",
    "true_loss_estimate = np.sum(Y_test != y_pred)/m_test\n",
    "\n",
    "\n",
    "#NOTE: you can avoid using num_errors if you prefer, as long as true_loss_estimate is correct\n",
    "print(\"Estimated true loss with 10000 iterations:\"+str(true_loss_estimate))"
   ]
  },
  {
   "cell_type": "markdown",
   "metadata": {
    "id": "Oeox9iSkMC0r"
   },
   "source": [
    "**TO DO** [Answer the following] What changes in the training error and in the test error (in terms of fraction of missclassified samples)? Explain what you observe. [Write the answer in this cell]\n",
    "\n",
    "**ANSWER** After training for a long period of time the training error decreased, the test error also decreased and is same as the training error which shows that the model is nor overfitting neither underfitting."
   ]
  },
  {
   "cell_type": "markdown",
   "metadata": {
    "id": "syszlPYjMC0z"
   },
   "source": [
    "# Logistic Regression\n",
    "Now we use logistic regression, as implemented in Scikit-learn, to predict labels. We first do it for 2 labels and then for 3 labels. We will also plot the decision region of logistic regression.\n",
    "\n",
    "We first load the dataset again."
   ]
  },
  {
   "cell_type": "code",
   "execution_count": 27,
   "metadata": {
    "executionInfo": {
     "elapsed": 1216,
     "status": "ok",
     "timestamp": 1605440902208,
     "user": {
      "displayName": "Khubaib Ahmad",
      "photoUrl": "https://lh3.googleusercontent.com/a-/AOh14Gj_cWPRmH6oXJ6HE6Yv3hXD7uBD12DWz59X9SGH=s64",
      "userId": "02537182755832941499"
     },
     "user_tz": -300
    },
    "id": "0rC6vpEgMC00",
    "jupyter": {
     "outputs_hidden": true
    }
   },
   "outputs": [],
   "source": [
    "# Load the dataset from scikit learn\n",
    "wine = datasets.load_wine()\n",
    "\n",
    "m = wine.data.shape[0]\n",
    "permutation = np.random.permutation(m)\n",
    "\n",
    "X = wine.data[permutation]\n",
    "Y = wine.target[permutation]"
   ]
  },
  {
   "cell_type": "markdown",
   "metadata": {
    "id": "pEzm8Y0tMC1B"
   },
   "source": [
    "**TO DO** As for the previous part, divide the data into training and test (50%-50%), relabel classes 0 and 2 as -1. Here there is no need to add a 1 at the beginning of each row, since it will be done automatically by the function we will use."
   ]
  },
  {
   "cell_type": "code",
   "execution_count": 28,
   "metadata": {
    "executionInfo": {
     "elapsed": 1240,
     "status": "ok",
     "timestamp": 1605440904554,
     "user": {
      "displayName": "Khubaib Ahmad",
      "photoUrl": "https://lh3.googleusercontent.com/a-/AOh14Gj_cWPRmH6oXJ6HE6Yv3hXD7uBD12DWz59X9SGH=s64",
      "userId": "02537182755832941499"
     },
     "user_tz": -300
    },
    "id": "5BvXmtRtMC1D",
    "jupyter": {
     "outputs_hidden": true
    }
   },
   "outputs": [],
   "source": [
    "#Divide in training and test: make sure that your training set\n",
    "#contains at least 10 elements from class 1 and at least 10 elements\n",
    "#from class -1! If it does not, modify the code so to apply more random\n",
    "#permutations (or the same permutation multiple times) until this happens.\n",
    "#IMPORTANT: do not change the random seed.\n",
    "\n",
    "m_training = int(m//2)\n",
    "m_test = int(m//2)\n",
    "\n",
    "X_training = X[:m_training]\n",
    "Y_training = Y[:m_training]\n",
    "\n",
    "X_test = X[m_training:]\n",
    "Y_test = Y[m_training:]\n",
    "\n",
    "#let's relabel classes 0 and 2 as -1\n",
    "\n",
    "for i in range(len(Y)):\n",
    "    if Y[i] != 1:\n",
    "        Y[i] = -1"
   ]
  },
  {
   "cell_type": "markdown",
   "metadata": {
    "id": "poTNDLGNMC1L"
   },
   "source": [
    "To define a logistic regression model in Scikit-learn use the instruction\n",
    "\n",
    "$linear\\_model.LogisticRegression(C=1e5)$\n",
    "\n",
    "($C$ is a parameter related to *regularization*, a technique that\n",
    "we will see later in the course. Setting it to a high value is almost\n",
    "as ignoring regularization, so the instruction above corresponds to the\n",
    "logistic regression you have seen in class.)\n",
    "\n",
    "To learn the model you need to use the $fit(...)$ instruction and to predict you need to use the $predict(...)$ function. See the Scikit-learn documentation for how to use it.\n",
    "\n",
    "**TO DO** Define the logistic regression model, then learn the model using the training set and predict on the test set. Then print the fraction of samples missclassified in the training set and in the test set."
   ]
  },
  {
   "cell_type": "code",
   "execution_count": 29,
   "metadata": {
    "colab": {
     "base_uri": "https://localhost:8080/"
    },
    "executionInfo": {
     "elapsed": 1232,
     "status": "ok",
     "timestamp": 1605440906621,
     "user": {
      "displayName": "Khubaib Ahmad",
      "photoUrl": "https://lh3.googleusercontent.com/a-/AOh14Gj_cWPRmH6oXJ6HE6Yv3hXD7uBD12DWz59X9SGH=s64",
      "userId": "02537182755832941499"
     },
     "user_tz": -300
    },
    "id": "f7t94g--MC1Q",
    "jupyter": {
     "outputs_hidden": true
    },
    "outputId": "cc7dff4a-0feb-4fa5-c6a5-6b538974a839"
   },
   "outputs": [
    {
     "name": "stdout",
     "output_type": "stream",
     "text": [
      "Error rate on training set: 0.0\n",
      "Error rate on test set: 0.056179775280898875\n"
     ]
    }
   ],
   "source": [
    "#part on logistic regression for 2 classes\n",
    "logreg = linear_model.LogisticRegression(C=1e5, max_iter=5000, solver='liblinear')\n",
    "\n",
    "#learn from training set\n",
    "\n",
    "logreg.fit(X_training, Y_training)\n",
    "\n",
    "#predict on training set\n",
    "\n",
    "y_pred = logreg.predict(X_training)\n",
    "\n",
    "#print the error rate = fraction of missclassified samples\n",
    "misclassified = np.sum(y_pred != Y_training)\n",
    "error_rate_training = misclassified/m_training\n",
    "print(\"Error rate on training set: \"+str(error_rate_training))\n",
    "\n",
    "#predict on test set\n",
    "\n",
    "y_pred = logreg.predict(X_test)\n",
    "\n",
    "#print the error rate = fraction of missclassified samples\n",
    "misclassified = np.sum(y_pred != Y_test)\n",
    "error_rate_test = misclassified/m_test\n",
    "print(\"Error rate on test set: \"+str(error_rate_test))"
   ]
  },
  {
   "cell_type": "markdown",
   "metadata": {
    "id": "YOABuSK4MC1c"
   },
   "source": [
    "Now we do logistic regression for classification with 3 classes.\n",
    "\n",
    "**TO DO** First: let's load the data once again (with the same permutation from before)."
   ]
  },
  {
   "cell_type": "code",
   "execution_count": 30,
   "metadata": {
    "executionInfo": {
     "elapsed": 1249,
     "status": "ok",
     "timestamp": 1605440909191,
     "user": {
      "displayName": "Khubaib Ahmad",
      "photoUrl": "https://lh3.googleusercontent.com/a-/AOh14Gj_cWPRmH6oXJ6HE6Yv3hXD7uBD12DWz59X9SGH=s64",
      "userId": "02537182755832941499"
     },
     "user_tz": -300
    },
    "id": "_u4gskKMMC1i",
    "jupyter": {
     "outputs_hidden": true
    }
   },
   "outputs": [],
   "source": [
    "#part on logistic regression for 3 classes\n",
    "\n",
    "#Divide in training and test: make sure that your training set\n",
    "#contains at least 10 elements from each of the 3 classes!\n",
    "#If it does not, modify the code so to apply more random\n",
    "#permutations (or the same permutation multiple times) until this happens.\n",
    "#IMPORTANT: do not change the random seed.\n",
    "X = wine.data[permutation]\n",
    "Y = wine.target[permutation]\n",
    "\n",
    "m = X.shape[0]\n",
    "m_training = int(m//2)\n",
    "m_test = int(m//2)\n",
    "\n",
    "X_training = X[:m_training]\n",
    "Y_training = Y[:m_training]\n",
    "\n",
    "X_test = X[m_training:]\n",
    "Y_test = Y[m_training:]"
   ]
  },
  {
   "cell_type": "code",
   "execution_count": 31,
   "metadata": {
    "colab": {
     "base_uri": "https://localhost:8080/"
    },
    "executionInfo": {
     "elapsed": 765,
     "status": "ok",
     "timestamp": 1605440910379,
     "user": {
      "displayName": "Khubaib Ahmad",
      "photoUrl": "https://lh3.googleusercontent.com/a-/AOh14Gj_cWPRmH6oXJ6HE6Yv3hXD7uBD12DWz59X9SGH=s64",
      "userId": "02537182755832941499"
     },
     "user_tz": -300
    },
    "id": "1m3_q-6Vrh-c",
    "outputId": "f11c126f-2591-4eb1-d3b5-47914158e8fd"
   },
   "outputs": [
    {
     "data": {
      "text/plain": [
       "(array([0, 1, 2]), array([26, 40, 23]))"
      ]
     },
     "execution_count": 31,
     "metadata": {
      "tags": []
     },
     "output_type": "execute_result"
    }
   ],
   "source": [
    "np.unique(Y_training, return_counts=True)"
   ]
  },
  {
   "cell_type": "markdown",
   "metadata": {
    "id": "rYXIquXPMC14"
   },
   "source": [
    "**TO DO** Now perform logistic regression (instructions as before) for 3 classes, learning a model from the training set and predicting on the test set. Print the fraction of missclassified samples on the training set and the fraction of missclassified samples on the test set."
   ]
  },
  {
   "cell_type": "code",
   "execution_count": 32,
   "metadata": {
    "colab": {
     "base_uri": "https://localhost:8080/"
    },
    "executionInfo": {
     "elapsed": 795,
     "status": "ok",
     "timestamp": 1605440911749,
     "user": {
      "displayName": "Khubaib Ahmad",
      "photoUrl": "https://lh3.googleusercontent.com/a-/AOh14Gj_cWPRmH6oXJ6HE6Yv3hXD7uBD12DWz59X9SGH=s64",
      "userId": "02537182755832941499"
     },
     "user_tz": -300
    },
    "id": "gRM21IOiMC16",
    "jupyter": {
     "outputs_hidden": true
    },
    "outputId": "bcc75e7e-27d9-4ffe-f7be-da4a9de1ba41"
   },
   "outputs": [
    {
     "name": "stdout",
     "output_type": "stream",
     "text": [
      "Error rate on training set: 0.0\n",
      "Error rate on test set: 0.06741573033707865\n"
     ]
    }
   ],
   "source": [
    "#part on logistic regression for 3 classes\n",
    "logreg = linear_model.LogisticRegression(C=1e5, max_iter=10000, solver='liblinear')\n",
    "\n",
    "#learn from training set\n",
    "\n",
    "logreg.fit(X_training, Y_training)\n",
    "\n",
    "#predict on training set\n",
    "\n",
    "y_pred = logreg.predict(X_training)\n",
    "\n",
    "#print the error rate = fraction of missclassified samples\n",
    "misclassified = np.sum(y_pred != Y_training)\n",
    "error_rate_training = misclassified/m_training\n",
    "print(\"Error rate on training set: \"+str(error_rate_training))\n",
    "\n",
    "#predict on test set\n",
    "\n",
    "y_pred = logreg.predict(X_test)\n",
    "\n",
    "#print the error rate = fraction of missclassified samples\n",
    "misclassified = np.sum(y_pred != Y_test)\n",
    "error_rate_test = misclassified/m_test\n",
    "print(\"Error rate on test set: \"+str(error_rate_test))"
   ]
  },
  {
   "cell_type": "markdown",
   "metadata": {
    "id": "sAPUbwYyMC2S"
   },
   "source": [
    "**TO DO** Now pick two features and restrict the dataset to include only two features, whose indices are specified in the $feature$ vector below. Then split into training and test."
   ]
  },
  {
   "cell_type": "code",
   "execution_count": 33,
   "metadata": {
    "executionInfo": {
     "elapsed": 819,
     "status": "ok",
     "timestamp": 1605440913133,
     "user": {
      "displayName": "Khubaib Ahmad",
      "photoUrl": "https://lh3.googleusercontent.com/a-/AOh14Gj_cWPRmH6oXJ6HE6Yv3hXD7uBD12DWz59X9SGH=s64",
      "userId": "02537182755832941499"
     },
     "user_tz": -300
    },
    "id": "3_ZroSWcMC2W",
    "jupyter": {
     "outputs_hidden": true
    }
   },
   "outputs": [],
   "source": [
    "#to make the plot we need to reduce the data to 2D, so we choose two features\n",
    "\n",
    "features_list = ['Alcohol',\n",
    "'Malic acid',\n",
    "'Ash',\n",
    "'Alcalinity of ash',\n",
    "'Magnesium',\n",
    "'Total phenols',\n",
    "'Flavanoids',\n",
    "'Nonflavanoid phenols',\n",
    "'Proanthocyanins',\n",
    "'Color intensity',\n",
    "'Hue',\n",
    "'OD280/OD315 of diluted wines',\n",
    "'Proline']\n",
    "labels_list = ['class_0', 'class_1', 'class_2']\n",
    "\n",
    "index_feature1 = 0\n",
    "index_feature2 = 1\n",
    "features = [index_feature1, index_feature2]\n",
    "\n",
    "feature_name0 = features_list[features[0]]\n",
    "feature_name1 = features_list[features[1]]\n",
    "\n",
    "#X_red is X reduced to include only the 2 features of\n",
    "#indices index_feature1 and index_feature2\n",
    "X_red = X[:,features]\n",
    "\n",
    "m = X_red.shape[0]\n",
    "\n",
    "X_red_training = X_red[:int(m//2)]\n",
    "Y_training = Y[:int(m//2)]\n",
    "\n",
    "X_red_test = X_red[int(m//2):]\n",
    "Y_test = Y[int(m//2):]"
   ]
  },
  {
   "cell_type": "markdown",
   "metadata": {
    "id": "SZHMjTtYMC2h"
   },
   "source": [
    "Now learn a model using the training data."
   ]
  },
  {
   "cell_type": "code",
   "execution_count": 34,
   "metadata": {
    "colab": {
     "base_uri": "https://localhost:8080/"
    },
    "executionInfo": {
     "elapsed": 707,
     "status": "ok",
     "timestamp": 1605440914921,
     "user": {
      "displayName": "Khubaib Ahmad",
      "photoUrl": "https://lh3.googleusercontent.com/a-/AOh14Gj_cWPRmH6oXJ6HE6Yv3hXD7uBD12DWz59X9SGH=s64",
      "userId": "02537182755832941499"
     },
     "user_tz": -300
    },
    "id": "pvv-2isUMC2j",
    "jupyter": {
     "outputs_hidden": true
    },
    "outputId": "3aa0942c-9260-43b7-bc4e-97706a074c0e"
   },
   "outputs": [
    {
     "data": {
      "text/plain": [
       "LogisticRegression(C=100000.0, class_weight=None, dual=False,\n",
       "                   fit_intercept=True, intercept_scaling=1, l1_ratio=None,\n",
       "                   max_iter=1000, multi_class='auto', n_jobs=None, penalty='l2',\n",
       "                   random_state=None, solver='lbfgs', tol=0.0001, verbose=0,\n",
       "                   warm_start=False)"
      ]
     },
     "execution_count": 34,
     "metadata": {
      "tags": []
     },
     "output_type": "execute_result"
    }
   ],
   "source": [
    "#ADD CODE! (only for learning from training data)\n",
    "logreg = linear_model.LogisticRegression(C=1e5, max_iter=1000)\n",
    "logreg.fit(X_red_training, Y_training)"
   ]
  },
  {
   "cell_type": "markdown",
   "metadata": {
    "id": "87_s-yWMMC2w"
   },
   "source": [
    "If everything is ok, the code below uses the model in $logreg$ to plot the decision region for the two features chosen above, with colors denoting the predicted value. It also plots the points (with correct labels) in the training set. It makes a similar plot for the test set."
   ]
  },
  {
   "cell_type": "code",
   "execution_count": 35,
   "metadata": {
    "colab": {
     "base_uri": "https://localhost:8080/",
     "height": 431
    },
    "executionInfo": {
     "elapsed": 1444,
     "status": "ok",
     "timestamp": 1605440917106,
     "user": {
      "displayName": "Khubaib Ahmad",
      "photoUrl": "https://lh3.googleusercontent.com/a-/AOh14Gj_cWPRmH6oXJ6HE6Yv3hXD7uBD12DWz59X9SGH=s64",
      "userId": "02537182755832941499"
     },
     "user_tz": -300
    },
    "id": "HpCIoGPfMC3e",
    "jupyter": {
     "outputs_hidden": true
    },
    "outputId": "75cdef37-e6c8-4b2c-d15e-ba9b32ff1e5b"
   },
   "outputs": [
    {
     "data": {
      "image/png": "[encoded data removed]",
      "text/plain": [
       "<Figure size 288x216 with 1 Axes>"
      ]
     },
     "metadata": {
      "tags": []
     },
     "output_type": "display_data"
    },
    {
     "data": {
      "image/png": "[encoded data removed]",
      "text/plain": [
       "<Figure size 288x216 with 1 Axes>"
      ]
     },
     "metadata": {
      "tags": []
     },
     "output_type": "display_data"
    }
   ],
   "source": [
    "# Plot the decision boundary. For that, we will assign a color to each\n",
    "# point in the mesh [x_min, x_max]x[y_min, y_max].\n",
    "h = .02  # step size in the mesh\n",
    "x_min, x_max = X_red[:, 0].min() - .5, X_red[:, 0].max() + .5\n",
    "y_min, y_max = X_red[:, 1].min() - .5, X_red[:, 1].max() + .5\n",
    "xx, yy = np.meshgrid(np.arange(x_min, x_max, h), np.arange(y_min, y_max, h))\n",
    "\n",
    "Z = logreg.predict(np.c_[xx.ravel(), yy.ravel()])\n",
    "\n",
    "# Put the result into a color plot\n",
    "Z = Z.reshape(xx.shape)\n",
    "\n",
    "plt.figure(1, figsize=(4, 3))\n",
    "plt.pcolormesh(xx, yy, Z, cmap=plt.cm.Paired)\n",
    "\n",
    "# Plot also the training points\n",
    "plt.scatter(X_red_training[:, 0], X_red_training[:, 1], c=Y_training, edgecolors='k', cmap=plt.cm.Paired)\n",
    "plt.xlabel(feature_name0)\n",
    "plt.ylabel(feature_name1)\n",
    "\n",
    "plt.xlim(xx.min(), xx.max())\n",
    "plt.ylim(yy.min(), yy.max())\n",
    "plt.xticks(())\n",
    "plt.yticks(())\n",
    "plt.title('Training set')\n",
    "\n",
    "plt.show()\n",
    "\n",
    "# Put the result into a color plot\n",
    "Z = Z.reshape(xx.shape)\n",
    "plt.figure(1, figsize=(4, 3))\n",
    "plt.pcolormesh(xx, yy, Z, cmap=plt.cm.Paired)\n",
    "\n",
    "# Plot also the test points \n",
    "plt.scatter(X_red_test[:, 0], X_red_test[:, 1], c=Y_test, edgecolors='k', cmap=plt.cm.Paired, marker='s')\n",
    "plt.xlabel(feature_name0)\n",
    "plt.ylabel(feature_name1)\n",
    "\n",
    "plt.xlim(xx.min(), xx.max())\n",
    "plt.ylim(yy.min(), yy.max())\n",
    "plt.xticks(())\n",
    "plt.yticks(())\n",
    "plt.title('Test set')\n",
    "\n",
    "plt.show()"
   ]
  },
  {
   "cell_type": "code",
   "execution_count": null,
   "metadata": {
    "id": "SYU4cbXHLKL0"
   },
   "outputs": [],
   "source": []
  }
 ],
 "metadata": {
  "anaconda-cloud": {},
  "colab": {
   "collapsed_sections": [],
   "name": "Perceptron_LogisticRegression.ipynb",
   "provenance": []
  },
  "kernelspec": {
   "display_name": "Python 3",
   "language": "python",
   "name": "python3"
  },
  "language_info": {
   "codemirror_mode": {
    "name": "ipython",
    "version": 3
   },
   "file_extension": ".py",
   "mimetype": "text/x-python",
   "name": "python",
   "nbconvert_exporter": "python",
   "pygments_lexer": "ipython3",
   "version": "3.7.6"
  }
 },
 "nbformat": 4,
 "nbformat_minor": 1
}
